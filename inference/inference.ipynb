{
 "cells": [
  {
   "cell_type": "code",
   "execution_count": null,
   "id": "b63488c3",
   "metadata": {
    "vscode": {
     "languageId": "plaintext"
    }
   },
   "outputs": [],
   "source": [
    "from huggingface_hub import notebook_login\n",
    "notebook_login()"
   ]
  },
  {
   "cell_type": "code",
   "execution_count": null,
   "id": "9cff6896",
   "metadata": {
    "vscode": {
     "languageId": "plaintext"
    }
   },
   "outputs": [],
   "source": [
    "# Use a pipeline as a high-level helper\n",
    "from transformers import pipeline\n",
    "pipe = pipeline(\"text-generation\", model=\"alenphilip/Code_Review_Assistant_Model\")\n",
    "prompt = \"Review this Python code and provide improvements with fixed code:\\n\\n```python\\nclass LockManager:\\n    def __init__(self, lock1, lock2):\\n        self.lock1 = lock1\\n        self.lock2 = lock2\\n\\n    def acquire_both(self):\\n        self.lock1.acquire()\\n        self.lock2.acquire() # This might fail\\n\\n    def release_both(self):\\n        self.lock1.release()\\n        self.lock2.release()\\n```\"\n",
    "messages = [\n",
    "    {\"role\": \"system\", \"content\": \"You are a helpful AI assistant specialized in code review and security analysis.\"},\n",
    "    {\"role\": \"user\", \"content\": prompt},\n",
    "]\n",
    "result = pipe(messages)\n",
    "conversation = result[0]['generated_text']\n",
    "\n",
    "for message in conversation:\n",
    "    print(f\"\\n{message['role'].upper()}:\")\n",
    "    print(\"-\" * 50)\n",
    "    print(message['content'])\n",
    "    print()\n",
    "\n",
    "print(\"=\" * 70)"
   ]
  },
  {
   "cell_type": "code",
   "execution_count": null,
   "id": "30af5037",
   "metadata": {
    "vscode": {
     "languageId": "plaintext"
    }
   },
   "outputs": [],
   "source": []
  }
 ],
 "metadata": {
  "language_info": {
   "name": "python"
  }
 },
 "nbformat": 4,
 "nbformat_minor": 5
}
