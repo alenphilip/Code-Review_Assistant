{
 "cells": [
  {
   "cell_type": "code",
   "execution_count": 1,
   "id": "167635c8-7d40-441b-a423-f3ea3b02ca57",
   "metadata": {},
   "outputs": [
    {
     "name": "stdout",
     "output_type": "stream",
     "text": [
      "Note: you may need to restart the kernel to use updated packages.\n"
     ]
    }
   ],
   "source": [
    "pip install -q pandas wandb torch transformers datasets peft accelerate bitsandbytes trl tqdm evaluate bert_score rouge_score nltk sacrebleu codebleu"
   ]
  },
  {
   "cell_type": "code",
   "execution_count": 1,
   "id": "1649d6c2-9076-43a4-8626-35418eb78923",
   "metadata": {},
   "outputs": [
    {
     "data": {
      "application/vnd.jupyter.widget-view+json": {
       "model_id": "054ecbbed7e04d87b61aa48fe1f11f60",
       "version_major": 2,
       "version_minor": 0
      },
      "text/plain": [
       "VBox(children=(HTML(value='<center> <img\\nsrc=https://huggingface.co/front/assets/huggingface_logo-noborder.sv…"
      ]
     },
     "metadata": {},
     "output_type": "display_data"
    }
   ],
   "source": [
    "from huggingface_hub import notebook_login\n",
    "\n",
    "notebook_login()"
   ]
  },
  {
   "cell_type": "code",
   "execution_count": null,
   "id": "54141bdf-a73b-40a6-8d4d-b09ba833af13",
   "metadata": {},
   "outputs": [],
   "source": [
    "from transformers import (\n",
    "    AutoModelForCausalLM,\n",
    "    AutoTokenizer)\n",
    "\n",
    "MODEL_NAME = \"Qwen/Qwen2.5-7B-Instruct\"\n",
    "\n",
    "tokenizer = AutoTokenizer.from_pretrained(MODEL_NAME, trust_remote_code=True)\n",
    "tokenizer.pad_token = tokenizer.eos_token\n",
    "tokenizer.padding_side = \"left\"\n",
    "# Formatting function for SFT\n",
    "def formatting_prompts_func(examples):\n",
    "    outputs =[]\n",
    "    for prompt, completion in zip(examples['prompt'], examples['completion']):\n",
    "        messages = [\n",
    "            {\"role\": \"system\", \"content\": \"You are a helpful AI assistant specialized in code review and security analysis.\"},\n",
    "            {\"role\": \"user\", \"content\": prompt},\n",
    "            {\"role\": \"assistant\", \"content\": completion}\n",
    "        ]\n",
    "        text = tokenizer.apply_chat_template(\n",
    "            messages,\n",
    "            tokenize=False,\n",
    "            add_generation_prompt=False\n",
    "        )\n",
    "        outputs.append(text)\n",
    "    return {\"text\":outputs}\n",
    "\n",
    "# Load dataset\n",
    "train_dataset = load_dataset('json', data_files='/kaggle/input/codereviewdataset/train_dataset.jsonl', split='train')\n",
    "eval_dataset = load_dataset('json', data_files='/kaggle/input/codereviewdataset/eval_dataset.jsonl', split='train')\n",
    "\n",
    "\n",
    "train_dataset = train_dataset.map(\n",
    "    formatting_prompts_func, \n",
    "    batched=True, \n",
    "    remove_columns=['prompt', 'completion']\n",
    ")\n",
    "eval_dataset = eval_dataset.map(\n",
    "    formatting_prompts_func, \n",
    "    batched=True, \n",
    "    remove_columns=['prompt', 'completion']\n",
    ")\n",
    "\n",
    "train_dataset.push_to_hub(\"alenphilip/Code-Review-Assistant\")\n",
    "eval_dataset.push_to_hub(\"alenphilip/Code-Review-Assistant-Eval\")"
   ]
  },
  {
   "cell_type": "code",
   "execution_count": 2,
   "id": "85711a03-1124-47ac-9bef-796207d26255",
   "metadata": {},
   "outputs": [
    {
     "data": {
      "application/vnd.jupyter.widget-view+json": {
       "model_id": "5e355f57ac4e4f1f87f2e04e55723615",
       "version_major": 2,
       "version_minor": 0
      },
      "text/plain": [
       "Loading checkpoint shards:   0%|          | 0/4 [00:00<?, ?it/s]"
      ]
     },
     "metadata": {},
     "output_type": "display_data"
    },
    {
     "name": "stderr",
     "output_type": "stream",
     "text": [
      "The tokenizer has new PAD/BOS/EOS tokens that differ from the model config and generation config. The model config and generation config were aligned accordingly, being updated with the tokenizer's values. Updated tokens: {'bos_token_id': None, 'pad_token_id': 151645}.\n"
     ]
    },
    {
     "name": "stdout",
     "output_type": "stream",
     "text": [
      "Starting training with evaluation...\n",
      "Training on 13670 examples\n",
      "Evaluating on 1726 examples every 50 steps\n",
      "Best model will be selected based on rougeL\n"
     ]
    },
    {
     "name": "stderr",
     "output_type": "stream",
     "text": [
      "\u001b[34m\u001b[1mwandb\u001b[0m: Currently logged in as: \u001b[33malenphilip2071\u001b[0m (\u001b[33malenphilip2071-google\u001b[0m) to \u001b[32mhttps://api.wandb.ai\u001b[0m. Use \u001b[1m`wandb login --relogin`\u001b[0m to force relogin\n"
     ]
    },
    {
     "data": {
      "text/html": [],
      "text/plain": [
       "<IPython.core.display.HTML object>"
      ]
     },
     "metadata": {},
     "output_type": "display_data"
    },
    {
     "data": {
      "text/html": [
       "Tracking run with wandb version 0.22.3"
      ],
      "text/plain": [
       "<IPython.core.display.HTML object>"
      ]
     },
     "metadata": {},
     "output_type": "display_data"
    },
    {
     "data": {
      "text/html": [
       "Run data is saved locally in <code>/teamspace/studios/this_studio/wandb/run-20251030_073545-d27nrifd</code>"
      ],
      "text/plain": [
       "<IPython.core.display.HTML object>"
      ]
     },
     "metadata": {},
     "output_type": "display_data"
    },
    {
     "data": {
      "text/html": [
       "Syncing run <strong><a href='https://wandb.ai/alenphilip2071-google/huggingface/runs/d27nrifd' target=\"_blank\">enchanted-glimpse-1</a></strong> to <a href='https://wandb.ai/alenphilip2071-google/huggingface' target=\"_blank\">Weights & Biases</a> (<a href='https://wandb.me/developer-guide' target=\"_blank\">docs</a>)<br>"
      ],
      "text/plain": [
       "<IPython.core.display.HTML object>"
      ]
     },
     "metadata": {},
     "output_type": "display_data"
    },
    {
     "data": {
      "text/html": [
       " View project at <a href='https://wandb.ai/alenphilip2071-google/huggingface' target=\"_blank\">https://wandb.ai/alenphilip2071-google/huggingface</a>"
      ],
      "text/plain": [
       "<IPython.core.display.HTML object>"
      ]
     },
     "metadata": {},
     "output_type": "display_data"
    },
    {
     "data": {
      "text/html": [
       " View run at <a href='https://wandb.ai/alenphilip2071-google/huggingface/runs/d27nrifd' target=\"_blank\">https://wandb.ai/alenphilip2071-google/huggingface/runs/d27nrifd</a>"
      ],
      "text/plain": [
       "<IPython.core.display.HTML object>"
      ]
     },
     "metadata": {},
     "output_type": "display_data"
    },
    {
     "name": "stderr",
     "output_type": "stream",
     "text": [
      "/home/zeus/miniconda3/envs/cloudspace/lib/python3.12/site-packages/torch/_dynamo/eval_frame.py:929: UserWarning: torch.utils.checkpoint: the use_reentrant parameter should be passed explicitly. In version 2.5 we will raise an exception if use_reentrant is not passed. use_reentrant=False is recommended, but if you need to preserve the current default behavior, you can pass use_reentrant=True. Refer to docs for more details on the differences between the two variants.\n",
      "  return fn(*args, **kwargs)\n"
     ]
    },
    {
     "data": {
      "text/html": [
       "\n",
       "    <div>\n",
       "      \n",
       "      <progress value='428' max='428' style='width:300px; height:20px; vertical-align: middle;'></progress>\n",
       "      [428/428 1:07:48, Epoch 2/2]\n",
       "    </div>\n",
       "    <table border=\"1\" class=\"dataframe\">\n",
       "  <thead>\n",
       " <tr style=\"text-align: left;\">\n",
       "      <th>Step</th>\n",
       "      <th>Training Loss</th>\n",
       "      <th>Validation Loss</th>\n",
       "      <th>Rougel</th>\n",
       "      <th>Bleu</th>\n",
       "      <th>Entropy</th>\n",
       "      <th>Num Tokens</th>\n",
       "      <th>Mean Token Accuracy</th>\n",
       "    </tr>\n",
       "  </thead>\n",
       "  <tbody>\n",
       "    <tr>\n",
       "      <td>50</td>\n",
       "      <td>0.719600</td>\n",
       "      <td>0.655296</td>\n",
       "      <td>0.749021</td>\n",
       "      <td>62.702702</td>\n",
       "      <td>0.661059</td>\n",
       "      <td>1206059.000000</td>\n",
       "      <td>0.815730</td>\n",
       "    </tr>\n",
       "    <tr>\n",
       "      <td>100</td>\n",
       "      <td>0.643100</td>\n",
       "      <td>0.623488</td>\n",
       "      <td>0.738838</td>\n",
       "      <td>60.525961</td>\n",
       "      <td>0.591626</td>\n",
       "      <td>2417754.000000</td>\n",
       "      <td>0.823156</td>\n",
       "    </tr>\n",
       "    <tr>\n",
       "      <td>150</td>\n",
       "      <td>0.627900</td>\n",
       "      <td>0.607305</td>\n",
       "      <td>0.748553</td>\n",
       "      <td>61.158296</td>\n",
       "      <td>0.595939</td>\n",
       "      <td>3614721.000000</td>\n",
       "      <td>0.826756</td>\n",
       "    </tr>\n",
       "    <tr>\n",
       "      <td>200</td>\n",
       "      <td>0.603200</td>\n",
       "      <td>0.602193</td>\n",
       "      <td>0.749269</td>\n",
       "      <td>60.260313</td>\n",
       "      <td>0.582608</td>\n",
       "      <td>4806172.000000</td>\n",
       "      <td>0.827303</td>\n",
       "    </tr>\n",
       "    <tr>\n",
       "      <td>250</td>\n",
       "      <td>0.567200</td>\n",
       "      <td>0.601825</td>\n",
       "      <td>0.748254</td>\n",
       "      <td>61.178798</td>\n",
       "      <td>0.530741</td>\n",
       "      <td>6002932.000000</td>\n",
       "      <td>0.828879</td>\n",
       "    </tr>\n",
       "    <tr>\n",
       "      <td>300</td>\n",
       "      <td>0.553600</td>\n",
       "      <td>0.597962</td>\n",
       "      <td>0.752772</td>\n",
       "      <td>61.618169</td>\n",
       "      <td>0.529030</td>\n",
       "      <td>7198597.000000</td>\n",
       "      <td>0.830216</td>\n",
       "    </tr>\n",
       "    <tr>\n",
       "      <td>350</td>\n",
       "      <td>0.538000</td>\n",
       "      <td>0.595937</td>\n",
       "      <td>0.753529</td>\n",
       "      <td>61.861999</td>\n",
       "      <td>0.525623</td>\n",
       "      <td>8406525.000000</td>\n",
       "      <td>0.830590</td>\n",
       "    </tr>\n",
       "    <tr>\n",
       "      <td>400</td>\n",
       "      <td>0.545500</td>\n",
       "      <td>0.595128</td>\n",
       "      <td>0.754338</td>\n",
       "      <td>61.993044</td>\n",
       "      <td>0.525889</td>\n",
       "      <td>9612371.000000</td>\n",
       "      <td>0.830819</td>\n",
       "    </tr>\n",
       "  </tbody>\n",
       "</table><p>"
      ],
      "text/plain": [
       "<IPython.core.display.HTML object>"
      ]
     },
     "metadata": {},
     "output_type": "display_data"
    },
    {
     "name": "stderr",
     "output_type": "stream",
     "text": [
      "/home/zeus/miniconda3/envs/cloudspace/lib/python3.12/site-packages/torch/_dynamo/eval_frame.py:929: UserWarning: torch.utils.checkpoint: the use_reentrant parameter should be passed explicitly. In version 2.5 we will raise an exception if use_reentrant is not passed. use_reentrant=False is recommended, but if you need to preserve the current default behavior, you can pass use_reentrant=True. Refer to docs for more details on the differences between the two variants.\n",
      "  return fn(*args, **kwargs)\n",
      "/home/zeus/miniconda3/envs/cloudspace/lib/python3.12/site-packages/torch/_dynamo/eval_frame.py:929: UserWarning: torch.utils.checkpoint: the use_reentrant parameter should be passed explicitly. In version 2.5 we will raise an exception if use_reentrant is not passed. use_reentrant=False is recommended, but if you need to preserve the current default behavior, you can pass use_reentrant=True. Refer to docs for more details on the differences between the two variants.\n",
      "  return fn(*args, **kwargs)\n",
      "/home/zeus/miniconda3/envs/cloudspace/lib/python3.12/site-packages/torch/_dynamo/eval_frame.py:929: UserWarning: torch.utils.checkpoint: the use_reentrant parameter should be passed explicitly. In version 2.5 we will raise an exception if use_reentrant is not passed. use_reentrant=False is recommended, but if you need to preserve the current default behavior, you can pass use_reentrant=True. Refer to docs for more details on the differences between the two variants.\n",
      "  return fn(*args, **kwargs)\n",
      "/home/zeus/miniconda3/envs/cloudspace/lib/python3.12/site-packages/torch/_dynamo/eval_frame.py:929: UserWarning: torch.utils.checkpoint: the use_reentrant parameter should be passed explicitly. In version 2.5 we will raise an exception if use_reentrant is not passed. use_reentrant=False is recommended, but if you need to preserve the current default behavior, you can pass use_reentrant=True. Refer to docs for more details on the differences between the two variants.\n",
      "  return fn(*args, **kwargs)\n"
     ]
    },
    {
     "name": "stdout",
     "output_type": "stream",
     "text": [
      "\n",
      "======================================================================\n",
      "Training completed!\n",
      "======================================================================\n"
     ]
    }
   ],
   "source": [
    "import torch\n",
    "from transformers import (\n",
    "    AutoModelForCausalLM,\n",
    "    AutoTokenizer,\n",
    "    BitsAndBytesConfig\n",
    ")\n",
    "from peft import LoraConfig, prepare_model_for_kbit_training\n",
    "from trl import SFTTrainer, SFTConfig\n",
    "from datasets import load_dataset\n",
    "import gc\n",
    "import os\n",
    "import wandb\n",
    "import evaluate\n",
    "import numpy as np\n",
    "import nltk\n",
    "\n",
    "# Set memory optimization\n",
    "os.environ[\"PYTORCH_CUDA_ALLOC_CONF\"] = \"expandable_segments:True\"\n",
    "\n",
    "# Clear memory\n",
    "torch.cuda.empty_cache()\n",
    "gc.collect()\n",
    "\n",
    "# Configuration\n",
    "MODEL_NAME = \"Qwen/Qwen2.5-7B-Instruct\"\n",
    "OUTPUT_DIR = \"./qwen2.5-7b-sft-qlora\"\n",
    "LORA_R = 32\n",
    "LORA_ALPHA = 64\n",
    "LORA_DROPOUT = 0.1\n",
    "# TARGET_MODULES = [\"q_proj\", \"k_proj\", \"v_proj\", \"o_proj\", \"gate_proj\", \"up_proj\", \"down_proj\"]\n",
    "TARGET_MODULES = [\"q_proj\", \"v_proj\", \"down_proj\", \"gate_proj\"]\n",
    "\n",
    "# Load tokenizer\n",
    "tokenizer = AutoTokenizer.from_pretrained(MODEL_NAME, trust_remote_code=True)\n",
    "tokenizer.pad_token = tokenizer.eos_token\n",
    "tokenizer.padding_side = \"left\"\n",
    "\n",
    "# Configure 4-bit quantization\n",
    "bnb_config = BitsAndBytesConfig(\n",
    "    load_in_4bit=True,\n",
    "    bnb_4bit_use_double_quant=True,\n",
    "    bnb_4bit_quant_type=\"nf4\",\n",
    "    bnb_4bit_compute_dtype=torch.bfloat16\n",
    ")\n",
    "\n",
    "# Load model with quantization\n",
    "model = AutoModelForCausalLM.from_pretrained(\n",
    "    MODEL_NAME,\n",
    "    quantization_config=bnb_config,\n",
    "    device_map=\"auto\",\n",
    "    trust_remote_code=True,\n",
    "    dtype=torch.bfloat16,\n",
    "    # attn_implementation=\"flash_attention_2\"\n",
    ")\n",
    "\n",
    "# Prepare model for k-bit training\n",
    "model = prepare_model_for_kbit_training(model, use_gradient_checkpointing=True)\n",
    "\n",
    "# Configure LoRA\n",
    "peft_config = LoraConfig(\n",
    "    r=LORA_R,\n",
    "    lora_alpha=LORA_ALPHA,\n",
    "    lora_dropout=LORA_DROPOUT,\n",
    "    target_modules=TARGET_MODULES,\n",
    "    bias=\"none\",\n",
    "    task_type=\"CAUSAL_LM\",\n",
    ")\n",
    "\n",
    "# Load datasets\n",
    "train_dataset = load_dataset(\"alenphilip/Code-Review-Assistant\", split=\"train\")\n",
    "eval_dataset = load_dataset(\"alenphilip/Code-Review-Assistant-Eval\", split=\"train\")\n",
    "\n",
    "# Load metrics\n",
    "nltk.download('punkt', quiet=True)\n",
    "rouge_metric = evaluate.load(\"rouge\")\n",
    "bleu_metric = evaluate.load(\"sacrebleu\")\n",
    "\n",
    "\n",
    "# CRITICAL FIX: Convert logits to token IDs immediately to save memory\n",
    "def preprocess_logits_for_metrics(logits, labels):\n",
    "    \"\"\"\n",
    "    This function runs BEFORE accumulation, saving massive amounts of memory.\n",
    "    Converts (batch, seq_len, vocab_size) → (batch, seq_len)\n",
    "    Memory reduction: ~600x smaller!\n",
    "    \"\"\"\n",
    "    if isinstance(logits, tuple):\n",
    "        logits = logits[0]\n",
    "    return logits.argmax(dim=-1)\n",
    "\n",
    "\n",
    "def compute_metrics(eval_preds):\n",
    "    \"\"\"\n",
    "    Now receives token IDs (not logits) thanks to preprocess_logits_for_metrics.\n",
    "    Computes ROUGE-L and BLEU on assistant responses only.\n",
    "    \"\"\"\n",
    "    try:\n",
    "        predictions, labels = eval_preds\n",
    "        \n",
    "        # Predictions are already token IDs (not logits)\n",
    "        predicted_ids = predictions\n",
    "        \n",
    "        # Clean labels (-100 → pad_token_id)\n",
    "        predicted_ids = np.where(predicted_ids == -100, tokenizer.pad_token_id, predicted_ids)\n",
    "        labels = np.where(labels == -100, tokenizer.pad_token_id, labels)\n",
    "        \n",
    "        # Decode\n",
    "        decoded_preds = tokenizer.batch_decode(predicted_ids, skip_special_tokens=True)\n",
    "        decoded_labels = tokenizer.batch_decode(labels, skip_special_tokens=True)\n",
    "        \n",
    "        parsed_preds = []\n",
    "        parsed_labels = []\n",
    "        \n",
    "        for pred, label in zip(decoded_preds, decoded_labels):\n",
    "            # Extract assistant response from prediction\n",
    "            if \"<|im_start|>assistant\" in pred:\n",
    "                assistant_part = pred.split(\"<|im_start|>assistant\")[-1]\n",
    "                if \"<|im_end|>\" in assistant_part:\n",
    "                    assistant_response = assistant_part.split(\"<|im_end|>\")[0].strip()\n",
    "                    parsed_preds.append(assistant_response)\n",
    "                else:\n",
    "                    parsed_preds.append(assistant_part.strip())\n",
    "            else:\n",
    "                parsed_preds.append(pred.strip())\n",
    "            \n",
    "            # Extract assistant response from label\n",
    "            if \"<|im_start|>assistant\" in label:\n",
    "                assistant_part = label.split(\"<|im_start|>assistant\")[-1]\n",
    "                if \"<|im_end|>\" in assistant_part:\n",
    "                    assistant_response = assistant_part.split(\"<|im_end|>\")[0].strip()\n",
    "                    parsed_labels.append(assistant_response)\n",
    "                else:\n",
    "                    parsed_labels.append(assistant_part.strip())\n",
    "            else:\n",
    "                parsed_labels.append(label.strip())\n",
    "        \n",
    "        # Filter out empty strings\n",
    "        parsed_preds = [p for p in parsed_preds if p.strip()]\n",
    "        parsed_labels = [l for l in parsed_labels if l.strip()]\n",
    "        \n",
    "        if not parsed_preds or not parsed_labels:\n",
    "            return {\"rougeL\": 0.0, \"bleu\": 0.0}\n",
    "\n",
    "        # Calculate metrics\n",
    "        rouge_results = rouge_metric.compute(predictions=parsed_preds, references=parsed_labels)\n",
    "        bleu_results = bleu_metric.compute(predictions=parsed_preds, references=[[l] for l in parsed_labels])\n",
    "        return {\n",
    "            \"rougeL\": rouge_results[\"rougeL\"],\n",
    "            \"bleu\": bleu_results[\"score\"],\n",
    "        }\n",
    "        \n",
    "    except Exception as e:\n",
    "        print(f\"Metrics error: {e}\")\n",
    "        return {\"rougeL\": 0.0, \"bleu\": 0.0}\n",
    "\n",
    "\n",
    "# Training arguments with evaluation enabled\n",
    "training_args = SFTConfig(\n",
    "    output_dir=OUTPUT_DIR,\n",
    "    \n",
    "    # Training settings\n",
    "    do_train=True,\n",
    "    do_eval=True,  # ✅ Enable evaluation during training\n",
    "    per_device_train_batch_size=16,\n",
    "    per_device_eval_batch_size=16,  # Smaller for evaluation (can increase if no OOM)\n",
    "    gradient_accumulation_steps=4,\n",
    "    learning_rate=2e-4,\n",
    "    num_train_epochs=2,\n",
    "    max_grad_norm=0.3,\n",
    "    \n",
    "    # Evaluation strategy\n",
    "    eval_strategy=\"steps\", \n",
    "    eval_steps=50,  \n",
    "    eval_accumulation_steps=4,\n",
    "    \n",
    "    # Scheduler and optimization\n",
    "    lr_scheduler_type=\"cosine\",\n",
    "    warmup_ratio=0.1,\n",
    "    optim=\"paged_adamw_8bit\",\n",
    "    bf16=True,\n",
    "    weight_decay=0.05,\n",
    "    \n",
    "    # Logging and saving\n",
    "    logging_steps=10,\n",
    "    save_strategy=\"steps\",\n",
    "    save_steps=100,\n",
    "    save_total_limit=3,  # ✅ Keep only best 3 checkpoints to save disk space\n",
    "    \n",
    "    # Model selection based on metrics\n",
    "    load_best_model_at_end=True,\n",
    "    metric_for_best_model=\"rougeL\",\n",
    "    greater_is_better=True,\n",
    "    \n",
    "    # SFT specific\n",
    "    dataset_text_field=\"text\",\n",
    "    remove_unused_columns=False,\n",
    "    gradient_checkpointing=True,\n",
    "    max_length=2048,\n",
    "    dataloader_pin_memory=False,  # ✅ Save memory\n",
    "    \n",
    "    # Push to hub\n",
    "    push_to_hub=True,\n",
    "    hub_model_id=\"alenphilip/Code_Review_Assistant\",\n",
    "    hub_strategy=\"checkpoint\",  # ✅ Push best checkpoint (not just at end)\n",
    "    \n",
    "    # Logging\n",
    "    report_to=\"wandb\"\n",
    ")\n",
    "\n",
    "# Clear memory before training\n",
    "torch.cuda.empty_cache()\n",
    "gc.collect()\n",
    "\n",
    "# Create trainer with the memory-efficient preprocessing function\n",
    "trainer = SFTTrainer(\n",
    "    model=model,\n",
    "    args=training_args,\n",
    "    peft_config=peft_config,\n",
    "    train_dataset=train_dataset,\n",
    "    eval_dataset=eval_dataset,  # ✅ Now we include eval dataset\n",
    "    processing_class=tokenizer,\n",
    "    compute_metrics=compute_metrics,\n",
    "    preprocess_logits_for_metrics=preprocess_logits_for_metrics,  # ✅ KEY FIX!\n",
    ")\n",
    "\n",
    "# Start training with evaluation\n",
    "print(\"Starting training with evaluation...\")\n",
    "print(f\"Training on {len(train_dataset)} examples\")\n",
    "print(f\"Evaluating on {len(eval_dataset)} examples every {training_args.eval_steps} steps\")\n",
    "print(f\"Best model will be selected based on {training_args.metric_for_best_model}\")\n",
    "\n",
    "trainer.train()\n",
    "\n",
    "print(\"\\n\" + \"=\"*70)\n",
    "print(\"Training completed!\")\n",
    "print(\"=\"*70)\n"
   ]
  },
  {
   "cell_type": "code",
   "execution_count": 3,
   "id": "458c0128-32fd-4fa2-a420-8f6c462ef239",
   "metadata": {},
   "outputs": [
    {
     "name": "stderr",
     "output_type": "stream",
     "text": [
      "`torch_dtype` is deprecated! Use `dtype` instead!\n"
     ]
    },
    {
     "data": {
      "application/vnd.jupyter.widget-view+json": {
       "model_id": "5a0d6565e11f4f3a96654359bcfe876e",
       "version_major": 2,
       "version_minor": 0
      },
      "text/plain": [
       "Loading checkpoint shards:   0%|          | 0/4 [00:00<?, ?it/s]"
      ]
     },
     "metadata": {},
     "output_type": "display_data"
    },
    {
     "data": {
      "application/vnd.jupyter.widget-view+json": {
       "model_id": "e3c51e7a84b242cb8515fd6824469ae2",
       "version_major": 2,
       "version_minor": 0
      },
      "text/plain": [
       "Processing Files (0 / 0): |          |  0.00B /  0.00B            "
      ]
     },
     "metadata": {},
     "output_type": "display_data"
    },
    {
     "data": {
      "application/vnd.jupyter.widget-view+json": {
       "model_id": "9865a12ba57f48a88dd47716068a973b",
       "version_major": 2,
       "version_minor": 0
      },
      "text/plain": [
       "New Data Upload: |          |  0.00B /  0.00B            "
      ]
     },
     "metadata": {},
     "output_type": "display_data"
    },
    {
     "data": {
      "application/vnd.jupyter.widget-view+json": {
       "model_id": "07345b3f8d4e49feba6390e291653c6b",
       "version_major": 2,
       "version_minor": 0
      },
      "text/plain": [
       "README.md: 0.00B [00:00, ?B/s]"
      ]
     },
     "metadata": {},
     "output_type": "display_data"
    },
    {
     "data": {
      "application/vnd.jupyter.widget-view+json": {
       "model_id": "037f694af78d4fa6a46723ac9fab4e2d",
       "version_major": 2,
       "version_minor": 0
      },
      "text/plain": [
       "Processing Files (0 / 0): |          |  0.00B /  0.00B            "
      ]
     },
     "metadata": {},
     "output_type": "display_data"
    },
    {
     "data": {
      "application/vnd.jupyter.widget-view+json": {
       "model_id": "d3cb7c2583fc4256bbe402f38a7e1865",
       "version_major": 2,
       "version_minor": 0
      },
      "text/plain": [
       "New Data Upload: |          |  0.00B /  0.00B            "
      ]
     },
     "metadata": {},
     "output_type": "display_data"
    }
   ],
   "source": [
    "import torch\n",
    "from transformers import AutoTokenizer\n",
    "def save_merged_model():\n",
    "    from transformers import AutoModelForCausalLM\n",
    "    from peft import PeftModel\n",
    "    import os\n",
    "    \n",
    "    # Use your final checkpoint\n",
    "    checkpoint_path = \"./qwen2.5-7b-sft-qlora/checkpoint-400\"\n",
    "  \n",
    "    base_model = AutoModelForCausalLM.from_pretrained(\n",
    "        \"Qwen/Qwen2.5-7B-Instruct\",  # Original base model\n",
    "        torch_dtype=torch.bfloat16,\n",
    "        device_map=\"auto\",\n",
    "        trust_remote_code=True\n",
    "    )\n",
    "\n",
    "    peft_model = PeftModel.from_pretrained(\n",
    "        base_model,\n",
    "        checkpoint_path,  # Your trained adapter\n",
    "        torch_dtype=torch.bfloat16\n",
    "    )\n",
    "    \n",
    "    merged_model = peft_model.merge_and_unload()\n",
    "    merged_model.push_to_hub(\"alenphilip/Code_Review_Assistant_Model\")\n",
    "    tokenizer = AutoTokenizer.from_pretrained(\"Qwen/Qwen2.5-7B-Instruct\", trust_remote_code=True)\n",
    "    tokenizer.pad_token = tokenizer.eos_token\n",
    "    tokenizer.padding_side = \"left\"\n",
    "    tokenizer.push_to_hub(\"alenphilip/Code_Review_Assistant_Model\")\n",
    "\n",
    "save_merged_model()"
   ]
  }
 ],
 "metadata": {
  "kernelspec": {
   "display_name": "Python 3",
   "language": "python",
   "name": "python3"
  },
  "language_info": {
   "codemirror_mode": {
    "name": "ipython",
    "version": 3
   },
   "file_extension": ".py",
   "mimetype": "text/x-python",
   "name": "python",
   "nbconvert_exporter": "python",
   "pygments_lexer": "ipython3",
   "version": "3.12.11"
  }
 },
 "nbformat": 4,
 "nbformat_minor": 5
}
